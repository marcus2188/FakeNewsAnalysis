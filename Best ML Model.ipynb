{
 "cells": [
  {
   "cell_type": "markdown",
   "metadata": {},
   "source": [
    "### IMPORT ALL MODULES"
   ]
  },
  {
   "cell_type": "code",
   "execution_count": 4,
   "metadata": {},
   "outputs": [],
   "source": [
    "from sklearn.model_selection import train_test_split\n",
    "from sklearn.feature_extraction.text import CountVectorizer\n",
    "from sklearn.model_selection import cross_val_score\n",
    "from sklearn.model_selection import GridSearchCV\n",
    "from sklearn.neighbors import KNeighborsClassifier\n",
    "from sklearn.linear_model import LogisticRegression\n",
    "from sklearn.tree import DecisionTreeClassifier\n",
    "from sklearn.ensemble import RandomForestClassifier\n",
    "from sklearn.svm import SVC\n",
    "from sklearn.neural_network import MLPClassifier\n",
    "import time\n",
    "import pandas as pd\n",
    "import numpy as np"
   ]
  },
  {
   "cell_type": "markdown",
   "metadata": {},
   "source": [
    "### CREATE DATASET"
   ]
  },
  {
   "cell_type": "code",
   "execution_count": 5,
   "metadata": {},
   "outputs": [],
   "source": [
    "realdataobj = pd.read_csv(\"newsdataset/True.csv\")\n",
    "fakedataobj = pd.read_csv(\"newsdataset/Fake.csv\")"
   ]
  },
  {
   "cell_type": "markdown",
   "metadata": {},
   "source": [
    "### VISUALISE DATASET"
   ]
  },
  {
   "cell_type": "code",
   "execution_count": 6,
   "metadata": {},
   "outputs": [
    {
     "name": "stdout",
     "output_type": "stream",
     "text": [
      "DATASET LOOKS LIKE : \n",
      "                                               title  \\\n",
      "0  As U.S. budget fight looms, Republicans flip t...   \n",
      "1  U.S. military to accept transgender recruits o...   \n",
      "2  Senior U.S. Republican senator: 'Let Mr. Muell...   \n",
      "3  FBI Russia probe helped by Australian diplomat...   \n",
      "\n",
      "                                                text       subject  \\\n",
      "0  WASHINGTON (Reuters) - The head of a conservat...  politicsNews   \n",
      "1  WASHINGTON (Reuters) - Transgender people will...  politicsNews   \n",
      "2  WASHINGTON (Reuters) - The special counsel inv...  politicsNews   \n",
      "3  WASHINGTON (Reuters) - Trump campaign adviser ...  politicsNews   \n",
      "\n",
      "                 date  \n",
      "0  December 31, 2017   \n",
      "1  December 29, 2017   \n",
      "2  December 31, 2017   \n",
      "3  December 30, 2017   \n"
     ]
    }
   ],
   "source": [
    "print(\"DATASET LOOKS LIKE : \")\n",
    "print(realdataobj.head(4))"
   ]
  },
  {
   "cell_type": "markdown",
   "metadata": {},
   "source": [
    "### APPEND NEW COLUMN TO HOUSE TARGET REAL VS FAKE"
   ]
  },
  {
   "cell_type": "code",
   "execution_count": 7,
   "metadata": {},
   "outputs": [],
   "source": [
    "realdataobj[\"Status\"] = \"Real\"\n",
    "fakedataobj[\"Status\"] = \"Fake\"\n",
    "joineddf = pd.concat([realdataobj, fakedataobj])\n",
    "joinarray = joineddf.values\n",
    "joindata = joinarray[:,0]\n",
    "jointarget = joinarray[:,-1]\n",
    "xtrain, xtest, ytrain, ytest = train_test_split(joindata, jointarget, random_state = 8)"
   ]
  },
  {
   "cell_type": "markdown",
   "metadata": {},
   "source": [
    "### MEASURE OUR RAW DATASET"
   ]
  },
  {
   "cell_type": "code",
   "execution_count": 8,
   "metadata": {},
   "outputs": [
    {
     "name": "stdout",
     "output_type": "stream",
     "text": [
      "\n",
      "Full Dataset contains the following distrubutions : \n",
      "-  21417  Real News\n",
      "-  23481  Fake News\n"
     ]
    }
   ],
   "source": [
    "print(\"\\nFull Dataset contains the following distrubutions : \")\n",
    "print(\"- \", len(realdataobj.index), \" Real News\")\n",
    "print(\"- \", len(fakedataobj.index), \" Fake News\")"
   ]
  },
  {
   "cell_type": "markdown",
   "metadata": {},
   "source": [
    "### VECTORISE COUNTS OF EACH WORD IN DATA"
   ]
  },
  {
   "cell_type": "code",
   "execution_count": 9,
   "metadata": {},
   "outputs": [
    {
     "name": "stdout",
     "output_type": "stream",
     "text": [
      "\n",
      " <33673x19196 sparse matrix of type '<class 'numpy.int64'>'\n",
      "\twith 409456 stored elements in Compressed Sparse Row format>\n",
      "['bharara', 'bhumibol', 'bi', 'biafra', 'bias', 'biased', 'bibi', 'bible', 'biblical', 'bicker', 'bicycle', 'bid', 'biden', 'bids', 'big', 'bigger', 'biggest', 'biggie', 'bigly', 'bigot']\n"
     ]
    }
   ],
   "source": [
    "countvec = CountVectorizer().fit(xtrain)\n",
    "xtrainvec = countvec.transform(xtrain)\n",
    "print(\"\\n\",repr(xtrainvec))\n",
    "words = countvec.get_feature_names()\n",
    "xtestvec = countvec.transform(xtest)\n",
    "print(words[2000:2020])"
   ]
  },
  {
   "cell_type": "markdown",
   "metadata": {},
   "source": [
    "### LIST ALL MODELS TO BE USED"
   ]
  },
  {
   "cell_type": "code",
   "execution_count": 11,
   "metadata": {},
   "outputs": [],
   "source": [
    "modelnames = [\"K Nearest Neighbour\", \"Logistic Regression\", \"Decision Tree\", \"Random Forest\", \"Kernel SVC\", \"Neural Network MLP\"]\n",
    "modellist = [KNeighborsClassifier(n_jobs = 4), LogisticRegression(max_iter = 10000, n_jobs = 4), DecisionTreeClassifier(), RandomForestClassifier(n_jobs = 4), SVC(max_iter = 10000), MLPClassifier()]\n",
    "param_gridlist = [{'n_neighbors': [3, 4, 5, 6, 7]},{'C': [0.001, 0.01, 0.1, 1, 10]}, {'max_depth': [1, 3, 5, 7, 9]}, {'n_estimators': [2, 4, 6, 8, 10]}, {'C': [0.001, 0.01, 0.1, 1, 10]}, {'hidden_layer_sizes': [50]}]"
   ]
  },
  {
   "cell_type": "markdown",
   "metadata": {},
   "source": [
    "#### BEST OF K NEAREST NEIGHBOURS\n",
    "##### -takes 6.7 minutes to run!"
   ]
  },
  {
   "cell_type": "code",
   "execution_count": 9,
   "metadata": {},
   "outputs": [
    {
     "name": "stdout",
     "output_type": "stream",
     "text": [
      "\n",
      "Best K Nearest Neighbour ML algorithm best parameters : \n",
      "Best cross-validation score: 0.79\n",
      "Best parameters:  {'n_neighbors': 4}\n",
      "Train Set Accuracy : \n",
      "0.8990585929379622\n",
      "Test Set Accuracy : \n",
      "0.8038307349665924\n"
     ]
    }
   ],
   "source": [
    "start = time.time()\n",
    "grid = GridSearchCV(modellist[0], param_gridlist[0], cv=5, n_jobs = 4)\n",
    "grid.fit(xtrainvec, ytrain)\n",
    "print(\"\\nBest\", modelnames[0], \"ML algorithm best parameters : \")\n",
    "print(\"Best cross-validation score: {:.2f}\".format(grid.best_score_)) \n",
    "print(\"Best parameters: \", grid.best_params_)\n",
    "print(\"Train Set Accuracy : \")\n",
    "print(grid.score(xtrainvec, ytrain))\n",
    "xtestvec = countvec.transform(xtest)\n",
    "print(\"Test Set Accuracy : \")\n",
    "print(grid.score(xtestvec, ytest))\n",
    "end = time.time()"
   ]
  },
  {
   "cell_type": "markdown",
   "metadata": {},
   "source": [
    "### BEST OF LOGISTIC REGRESSIONS\n",
    "#### -takes 13 secs to run!"
   ]
  },
  {
   "cell_type": "code",
   "execution_count": 12,
   "metadata": {},
   "outputs": [
    {
     "name": "stdout",
     "output_type": "stream",
     "text": [
      "\n",
      "Best Logistic Regression ML algorithm best parameters : \n",
      "Best cross-validation score: 0.96\n",
      "Best parameters:  {'C': 10}\n",
      "Train Set Accuracy : \n",
      "0.9993169601758085\n",
      "Test Set Accuracy : \n",
      "0.9614253897550111\n"
     ]
    }
   ],
   "source": [
    "start = time.time()\n",
    "grid = GridSearchCV(modellist[1], param_gridlist[1], cv=5, n_jobs = 4)\n",
    "grid.fit(xtrainvec, ytrain)\n",
    "print(\"\\nBest\", modelnames[1], \"ML algorithm best parameters : \")\n",
    "print(\"Best cross-validation score: {:.2f}\".format(grid.best_score_)) \n",
    "print(\"Best parameters: \", grid.best_params_)\n",
    "print(\"Train Set Accuracy : \")\n",
    "print(grid.score(xtrainvec, ytrain))\n",
    "xtestvec = countvec.transform(xtest)\n",
    "print(\"Test Set Accuracy : \")\n",
    "print(grid.score(xtestvec, ytest))\n",
    "end = time.time()"
   ]
  },
  {
   "cell_type": "markdown",
   "metadata": {},
   "source": [
    "### BEST OF DECISION TREES\n",
    "#### -takes 7 secs to run!"
   ]
  },
  {
   "cell_type": "code",
   "execution_count": 14,
   "metadata": {},
   "outputs": [
    {
     "name": "stdout",
     "output_type": "stream",
     "text": [
      "\n",
      "Best Decision Tree ML algorithm best parameters : \n",
      "Best cross-validation score: 0.83\n",
      "Best parameters:  {'max_depth': 9}\n",
      "Train Set Accuracy : \n",
      "0.8320612953998753\n",
      "Test Set Accuracy : \n",
      "0.8303786191536748\n"
     ]
    }
   ],
   "source": [
    "start = time.time()\n",
    "grid = GridSearchCV(modellist[2], param_gridlist[2], cv=5, n_jobs = 4)\n",
    "grid.fit(xtrainvec, ytrain)\n",
    "print(\"\\nBest\", modelnames[2], \"ML algorithm best parameters : \")\n",
    "print(\"Best cross-validation score: {:.2f}\".format(grid.best_score_)) \n",
    "print(\"Best parameters: \", grid.best_params_)\n",
    "print(\"Train Set Accuracy : \")\n",
    "print(grid.score(xtrainvec, ytrain))\n",
    "xtestvec = countvec.transform(xtest)\n",
    "print(\"Test Set Accuracy : \")\n",
    "print(grid.score(xtestvec, ytest))\n",
    "end = time.time()"
   ]
  },
  {
   "cell_type": "markdown",
   "metadata": {},
   "source": [
    "### BEST OF RANDOM FORESTS\n",
    "#### -takes 47 secs to run!"
   ]
  },
  {
   "cell_type": "code",
   "execution_count": 19,
   "metadata": {},
   "outputs": [
    {
     "name": "stdout",
     "output_type": "stream",
     "text": [
      "\n",
      "Best Random Forest ML algorithm best parameters : \n",
      "Best cross-validation score: 0.93\n",
      "Best parameters:  {'n_estimators': 10}\n",
      "Train Set Accuracy : \n",
      "0.9964363139607401\n",
      "Test Set Accuracy : \n",
      "0.932293986636971\n"
     ]
    }
   ],
   "source": [
    "start = time.time()\n",
    "grid = GridSearchCV(modellist[3], param_gridlist[3], cv=5, n_jobs = 4)\n",
    "grid.fit(xtrainvec, ytrain)\n",
    "print(\"\\nBest\", modelnames[3], \"ML algorithm best parameters : \")\n",
    "print(\"Best cross-validation score: {:.2f}\".format(grid.best_score_)) \n",
    "print(\"Best parameters: \", grid.best_params_)\n",
    "print(\"Train Set Accuracy : \")\n",
    "print(grid.score(xtrainvec, ytrain))\n",
    "xtestvec = countvec.transform(xtest)\n",
    "print(\"Test Set Accuracy : \")\n",
    "print(grid.score(xtestvec, ytest))\n",
    "end = time.time()"
   ]
  },
  {
   "cell_type": "markdown",
   "metadata": {},
   "source": [
    "### BEST OF KERNEL SVM CLASSIFIER\n",
    "#### - takes 13 mins to run! on non scaled data\n",
    "#### - takes "
   ]
  },
  {
   "cell_type": "code",
   "execution_count": 21,
   "metadata": {},
   "outputs": [
    {
     "name": "stderr",
     "output_type": "stream",
     "text": [
      "/opt/anaconda3/lib/python3.7/site-packages/sklearn/svm/_base.py:231: ConvergenceWarning: Solver terminated early (max_iter=10000).  Consider pre-processing your data with StandardScaler or MinMaxScaler.\n",
      "  % self.max_iter, ConvergenceWarning)\n"
     ]
    },
    {
     "name": "stdout",
     "output_type": "stream",
     "text": [
      "\n",
      "Best Kernel SVC ML algorithm best parameters : \n",
      "Best cross-validation score: 0.97\n",
      "Best parameters:  {'C': 10}\n",
      "Train Set Accuracy : \n",
      "1.0\n",
      "Test Set Accuracy : \n",
      "0.9691759465478842\n"
     ]
    }
   ],
   "source": [
    "start = time.time()\n",
    "grid = GridSearchCV(modellist[4], param_gridlist[4], cv=5, n_jobs = 4)\n",
    "grid.fit(xtrainvec, ytrain)\n",
    "print(\"\\nBest\", modelnames[4], \"ML algorithm best parameters : \")\n",
    "print(\"Best cross-validation score: {:.2f}\".format(grid.best_score_)) \n",
    "print(\"Best parameters: \", grid.best_params_)\n",
    "print(\"Train Set Accuracy : \")\n",
    "print(grid.score(xtrainvec, ytrain))\n",
    "xtestvec = countvec.transform(xtest)\n",
    "print(\"Test Set Accuracy : \")\n",
    "print(grid.score(xtestvec, ytest))\n",
    "end = time.time()"
   ]
  },
  {
   "cell_type": "markdown",
   "metadata": {},
   "source": [
    "### BEST OF NEURAL NETWORK MLP CLASSIFIER\n",
    "#### - takes "
   ]
  },
  {
   "cell_type": "code",
   "execution_count": null,
   "metadata": {},
   "outputs": [],
   "source": [
    "start = time.time()\n",
    "grid = GridSearchCV(modellist[5], param_gridlist[5], cv=5, n_jobs = -1)\n",
    "grid.fit(xtrainvec, ytrain)\n",
    "print(\"\\nBest\", modelnames[5], \"ML algorithm best parameters : \")\n",
    "print(\"Best cross-validation score: {:.2f}\".format(grid.best_score_)) \n",
    "print(\"Best parameters: \", grid.best_params_)\n",
    "print(\"Train Set Accuracy : \")\n",
    "print(grid.score(xtrainvec, ytrain))\n",
    "print(\"Test Set Accuracy : \")\n",
    "print(grid.score(xtestvec, ytest))\n",
    "end = time.time()"
   ]
  },
  {
   "cell_type": "code",
   "execution_count": null,
   "metadata": {},
   "outputs": [],
   "source": [
    "print(end-start)"
   ]
  },
  {
   "cell_type": "code",
   "execution_count": null,
   "metadata": {},
   "outputs": [],
   "source": []
  }
 ],
 "metadata": {
  "kernelspec": {
   "display_name": "Python 3",
   "language": "python",
   "name": "python3"
  },
  "language_info": {
   "codemirror_mode": {
    "name": "ipython",
    "version": 3
   },
   "file_extension": ".py",
   "mimetype": "text/x-python",
   "name": "python",
   "nbconvert_exporter": "python",
   "pygments_lexer": "ipython3",
   "version": "3.7.6"
  }
 },
 "nbformat": 4,
 "nbformat_minor": 4
}
